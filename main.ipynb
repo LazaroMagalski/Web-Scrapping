{
 "cells": [
  {
   "cell_type": "code",
   "execution_count": 1,
   "id": "68a16d3d",
   "metadata": {},
   "outputs": [],
   "source": [
    "import requests\n",
    "from bs4 import BeautifulSoup as bs"
   ]
  },
  {
   "cell_type": "code",
   "execution_count": 2,
   "id": "43850cd6",
   "metadata": {},
   "outputs": [
    {
     "name": "stdout",
     "output_type": "stream",
     "text": [
      "Input Github User: LazaroMagalski\n",
      "https://avatars.githubusercontent.com/u/26746838?v=4\n"
     ]
    }
   ],
   "source": [
    "github_user = input('Input Github User: ')\n",
    "url = 'https://github.com/'+github_user\n",
    "r = requests.get(url)\n",
    "soup = bs(r.content, 'html.parser')\n",
    "profile_image = soup.find('img', {'alt' : 'Avatar'})['src']\n",
    "print(profile_image)"
   ]
  },
  {
   "cell_type": "code",
   "execution_count": null,
   "id": "441c88af",
   "metadata": {},
   "outputs": [],
   "source": []
  }
 ],
 "metadata": {
  "kernelspec": {
   "display_name": "Python 3 (ipykernel)",
   "language": "python",
   "name": "python3"
  },
  "language_info": {
   "codemirror_mode": {
    "name": "ipython",
    "version": 3
   },
   "file_extension": ".py",
   "mimetype": "text/x-python",
   "name": "python",
   "nbconvert_exporter": "python",
   "pygments_lexer": "ipython3",
   "version": "3.10.4"
  }
 },
 "nbformat": 4,
 "nbformat_minor": 5
}
